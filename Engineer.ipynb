{
  "nbformat": 4,
  "nbformat_minor": 0,
  "metadata": {
    "colab": {
      "name": "Engineer.ipynb",
      "provenance": [],
      "authorship_tag": "ABX9TyN5I3BiBEB0pxK0MvNBNSWj",
      "include_colab_link": true
    },
    "kernelspec": {
      "name": "python3",
      "display_name": "Python 3"
    }
  },
  "cells": [
    {
      "cell_type": "markdown",
      "metadata": {
        "id": "view-in-github",
        "colab_type": "text"
      },
      "source": [
        "<a href=\"https://colab.research.google.com/github/18101003rakin/practice/blob/master/Engineer.ipynb\" target=\"_parent\"><img src=\"https://colab.research.google.com/assets/colab-badge.svg\" alt=\"Open In Colab\"/></a>"
      ]
    },
    {
      "cell_type": "markdown",
      "metadata": {
        "id": "722a_IvTmZE5",
        "colab_type": "text"
      },
      "source": [
        "**Main Parent Class**"
      ]
    },
    {
      "cell_type": "code",
      "metadata": {
        "id": "wmPSfvvjZYM7",
        "colab_type": "code",
        "colab": {}
      },
      "source": [
        "class Engineer:\n",
        "  def __init__(self,passing_year,degree):\n",
        "    self.passing_year = passing_year\n",
        "    self.degree = degree\n",
        "\n",
        "  def show_info(self):\n",
        "    print(\"Passing Year : \",self.passing_year)\n",
        "    print(\"Degree : \",self.degree)  "
      ],
      "execution_count": 1,
      "outputs": []
    },
    {
      "cell_type": "markdown",
      "metadata": {
        "id": "2iH6zv4gmhPx",
        "colab_type": "text"
      },
      "source": [
        "**Child class of Engineer class**"
      ]
    },
    {
      "cell_type": "code",
      "metadata": {
        "id": "y8iA9ciEaDFV",
        "colab_type": "code",
        "colab": {}
      },
      "source": [
        "class Civil_Engineer(Engineer):\n",
        "  def info_1(self,name):\n",
        "    print(\"Name : \",name)"
      ],
      "execution_count": 2,
      "outputs": []
    },
    {
      "cell_type": "markdown",
      "metadata": {
        "id": "DG65-fq5mp83",
        "colab_type": "text"
      },
      "source": [
        "**Child class of Engineer class **"
      ]
    },
    {
      "cell_type": "code",
      "metadata": {
        "id": "VmMRp-TcaaQg",
        "colab_type": "code",
        "colab": {}
      },
      "source": [
        "class CSE(Engineer):\n",
        "  def info_2(self,name):\n",
        "    print(\"Name : \",name)"
      ],
      "execution_count": 3,
      "outputs": []
    },
    {
      "cell_type": "markdown",
      "metadata": {
        "id": "Yax2ldVMm90e",
        "colab_type": "text"
      },
      "source": [
        "**Child class of CSE class**"
      ]
    },
    {
      "cell_type": "code",
      "metadata": {
        "id": "AcfL4wHgjDm1",
        "colab_type": "code",
        "colab": {}
      },
      "source": [
        "class Software_Engineer(CSE):\n",
        "  def soft(self,work_place):\n",
        "    print(\"He/She works at \",work_place)"
      ],
      "execution_count": 23,
      "outputs": []
    },
    {
      "cell_type": "markdown",
      "metadata": {
        "id": "3XL9yZHEnGiO",
        "colab_type": "text"
      },
      "source": [
        "**Child class of CSE class**"
      ]
    },
    {
      "cell_type": "code",
      "metadata": {
        "id": "Qsch41AdazKY",
        "colab_type": "code",
        "colab": {}
      },
      "source": [
        "class Front_end(CSE):\n",
        "  def front(self):\n",
        "    print(\"He/She is a front end engineer\")"
      ],
      "execution_count": 24,
      "outputs": []
    },
    {
      "cell_type": "markdown",
      "metadata": {
        "id": "efqWBZ_-nNZh",
        "colab_type": "text"
      },
      "source": [
        "**Child class of CSE class**"
      ]
    },
    {
      "cell_type": "code",
      "metadata": {
        "id": "tQHyNSUzcxwh",
        "colab_type": "code",
        "colab": {}
      },
      "source": [
        "class Back_end(CSE):\n",
        "  def back(self):\n",
        "    print(\"He/She is a back end engineer\")"
      ],
      "execution_count": 25,
      "outputs": []
    },
    {
      "cell_type": "markdown",
      "metadata": {
        "id": "OUrubjdUnWUr",
        "colab_type": "text"
      },
      "source": [
        "**Child class of Front_end and Back_end**"
      ]
    },
    {
      "cell_type": "code",
      "metadata": {
        "id": "NWQhD0YJdNtd",
        "colab_type": "code",
        "colab": {}
      },
      "source": [
        "class Webdeveloper(Front_end,Back_end):\n",
        "  def web_dev(self):\n",
        "    print(\"So he/she is a webdeveloper\")"
      ],
      "execution_count": 34,
      "outputs": []
    },
    {
      "cell_type": "markdown",
      "metadata": {
        "id": "Cb6BWXqpnf2K",
        "colab_type": "text"
      },
      "source": [
        "**Child class of Engineer class**"
      ]
    },
    {
      "cell_type": "code",
      "metadata": {
        "id": "wj7Kih97eGnW",
        "colab_type": "code",
        "colab": {}
      },
      "source": [
        "class EEE(Engineer):\n",
        "  def info_3(self,name):\n",
        "    print(\"Name : \",name)"
      ],
      "execution_count": 27,
      "outputs": []
    },
    {
      "cell_type": "markdown",
      "metadata": {
        "id": "FhhWKDFtnofV",
        "colab_type": "text"
      },
      "source": [
        "**object of civil_Engineer class**"
      ]
    },
    {
      "cell_type": "code",
      "metadata": {
        "id": "qPUVAcrjeTZm",
        "colab_type": "code",
        "colab": {
          "base_uri": "https://localhost:8080/",
          "height": 67
        },
        "outputId": "5460a264-af1b-4ddd-b8a4-882698bcd0df"
      },
      "source": [
        "civil = Civil_Engineer(2010,\"Bsc\")\n",
        "\n",
        "civil.info_1(\"Joy\")\n",
        "civil.show_info()"
      ],
      "execution_count": 28,
      "outputs": [
        {
          "output_type": "stream",
          "text": [
            "Name :  Joy\n",
            "Passing Year :  2010\n",
            "Degree :  Bsc\n"
          ],
          "name": "stdout"
        }
      ]
    },
    {
      "cell_type": "markdown",
      "metadata": {
        "id": "GK8katicnwil",
        "colab_type": "text"
      },
      "source": [
        "**object of cse class**"
      ]
    },
    {
      "cell_type": "code",
      "metadata": {
        "id": "kTrE7h2PfyJh",
        "colab_type": "code",
        "colab": {
          "base_uri": "https://localhost:8080/",
          "height": 67
        },
        "outputId": "7d8c1feb-e564-4a1f-97fe-5b46e970014c"
      },
      "source": [
        "cse = CSE(2002,\"Bsc\")\n",
        "\n",
        "cse.info_2(\"Nafees\")\n",
        "cse.show_info()"
      ],
      "execution_count": 29,
      "outputs": [
        {
          "output_type": "stream",
          "text": [
            "Name :  Nafees\n",
            "Passing Year :  2002\n",
            "Degree :  Bsc\n"
          ],
          "name": "stdout"
        }
      ]
    },
    {
      "cell_type": "markdown",
      "metadata": {
        "id": "TmYRY0ITn7Mp",
        "colab_type": "text"
      },
      "source": [
        "**Object of Software_Engineer class**"
      ]
    },
    {
      "cell_type": "code",
      "metadata": {
        "id": "2rcNNUCoiKL7",
        "colab_type": "code",
        "colab": {
          "base_uri": "https://localhost:8080/",
          "height": 84
        },
        "outputId": "b330cd76-7c56-4f23-ec3f-a9598264aeee"
      },
      "source": [
        "software = Software_Engineer(2001,\"Bsc\")\n",
        "\n",
        "software.info_2(\"Progga\")\n",
        "software.show_info()\n",
        "software.soft(\"Google\")"
      ],
      "execution_count": 30,
      "outputs": [
        {
          "output_type": "stream",
          "text": [
            "Name :  Progga\n",
            "Passing Year :  2001\n",
            "Degree :  Bsc\n",
            "He/She works at  Google\n"
          ],
          "name": "stdout"
        }
      ]
    },
    {
      "cell_type": "markdown",
      "metadata": {
        "id": "7h2RzTSVoJj1",
        "colab_type": "text"
      },
      "source": [
        "**object of Webdeveloper class**"
      ]
    },
    {
      "cell_type": "code",
      "metadata": {
        "id": "pcfDgApkkfY-",
        "colab_type": "code",
        "colab": {
          "base_uri": "https://localhost:8080/",
          "height": 118
        },
        "outputId": "2766257c-d549-40e9-e5c3-25c80a66188d"
      },
      "source": [
        "web = Webdeveloper(2016,\"Bsc\")\n",
        "\n",
        "web.info_2(\"Kasfia\")\n",
        "web.show_info()\n",
        "web.front()\n",
        "web.back()\n",
        "web.web_dev()\n"
      ],
      "execution_count": 36,
      "outputs": [
        {
          "output_type": "stream",
          "text": [
            "Name :  Kasfia\n",
            "Passing Year :  2016\n",
            "Degree :  Bsc\n",
            "He/She is a front end engineer\n",
            "He/She is a back end engineer\n",
            "So he/she is a webdeveloper\n"
          ],
          "name": "stdout"
        }
      ]
    }
  ]
}
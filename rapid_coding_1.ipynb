{
  "nbformat": 4,
  "nbformat_minor": 0,
  "metadata": {
    "colab": {
      "name": "rapid_coding_1.ipynb",
      "provenance": [],
      "authorship_tag": "ABX9TyMbCtr9Z/Nhirtl8/5/XozS",
      "include_colab_link": true
    },
    "kernelspec": {
      "name": "python3",
      "display_name": "Python 3"
    }
  },
  "cells": [
    {
      "cell_type": "markdown",
      "metadata": {
        "id": "view-in-github",
        "colab_type": "text"
      },
      "source": [
        "<a href=\"https://colab.research.google.com/github/18101003rakin/practice/blob/master/rapid_coding_1.ipynb\" target=\"_parent\"><img src=\"https://colab.research.google.com/assets/colab-badge.svg\" alt=\"Open In Colab\"/></a>"
      ]
    },
    {
      "cell_type": "markdown",
      "metadata": {
        "id": "0NMc-JsSZKZ8",
        "colab_type": "text"
      },
      "source": [
        "**1. Write a python program to calculate simple interest.**"
      ]
    },
    {
      "cell_type": "code",
      "metadata": {
        "id": "Z5icEMrhZIyE",
        "colab_type": "code",
        "colab": {
          "base_uri": "https://localhost:8080/",
          "height": 84
        },
        "outputId": "e2ace199-528e-4a63-f478-6529ab552e74"
      },
      "source": [
        "p = float(input(\"Principle = \"))\n",
        "\n",
        "t = float(input(\"Time = \"))\n",
        "\n",
        "r = float(input(\"Rate = \"))\n",
        "\n",
        "i = (p*t*r)/100\n",
        "print(\"Simple Interest = \",i)\n"
      ],
      "execution_count": 2,
      "outputs": [
        {
          "output_type": "stream",
          "text": [
            "Principle = 10000\n",
            "Time = 5\n",
            "Rate = 5\n",
            "Simple Interest =  2500.0\n"
          ],
          "name": "stdout"
        }
      ]
    },
    {
      "cell_type": "markdown",
      "metadata": {
        "id": "ANlS6RAUcFsR",
        "colab_type": "text"
      },
      "source": [
        "**2. Write a python program to calculate the area of a circle.**"
      ]
    },
    {
      "cell_type": "code",
      "metadata": {
        "id": "b3TXBh0XcTFN",
        "colab_type": "code",
        "colab": {
          "base_uri": "https://localhost:8080/",
          "height": 50
        },
        "outputId": "eefc1204-b3a8-49cd-f93b-cc1128a8d83d"
      },
      "source": [
        "r = float(input(\"Radious = \"))\n",
        "area = (3.1416)*(r**2)\n",
        "\n",
        "print(\"Area of circle = \",round(area,2))"
      ],
      "execution_count": 7,
      "outputs": [
        {
          "output_type": "stream",
          "text": [
            "Radious = 10\n",
            "Area of circle =  314.16\n"
          ],
          "name": "stdout"
        }
      ]
    },
    {
      "cell_type": "markdown",
      "metadata": {
        "id": "_Ot-_vNBdRZE",
        "colab_type": "text"
      },
      "source": [
        "**3. Write a python program to calculate compound interest.**"
      ]
    },
    {
      "cell_type": "code",
      "metadata": {
        "id": "lWH5ZUMAdZ1m",
        "colab_type": "code",
        "colab": {
          "base_uri": "https://localhost:8080/",
          "height": 84
        },
        "outputId": "2aef63f3-d742-46a2-a185-9bf1377c0751"
      },
      "source": [
        "p = float(input(\"Principal = \"))\n",
        "t = int(input(\"Time(year) = \"))\n",
        "r = float(input(\"Rate = \"))\n",
        "\n",
        "compound_interest = p*(1+r/100)**t\n",
        "print(\"Compound Interest = \",compound_interest)"
      ],
      "execution_count": 8,
      "outputs": [
        {
          "output_type": "stream",
          "text": [
            "Principal = 1200\n",
            "Time(year) = 2\n",
            "Rate = 5.4\n",
            "Compound Interest =  1333.0992\n"
          ],
          "name": "stdout"
        }
      ]
    },
    {
      "cell_type": "markdown",
      "metadata": {
        "id": "nKBmqLRyeyBA",
        "colab_type": "text"
      },
      "source": [
        "**4. Write a python program to calculate the average of five numbers.**"
      ]
    },
    {
      "cell_type": "code",
      "metadata": {
        "id": "W4m29LJSe7Zq",
        "colab_type": "code",
        "colab": {
          "base_uri": "https://localhost:8080/",
          "height": 118
        },
        "outputId": "b2491462-082b-4717-c73d-ac961102ff2b"
      },
      "source": [
        "a = float(input(\"A = \"))\n",
        "b = float(input(\"B = \"))\n",
        "c = float(input(\"C = \"))\n",
        "d = float(input(\"D = \"))\n",
        "e = float(input(\"E = \"))\n",
        "\n",
        "average = (a+b+c+d+e)/5\n",
        "print(\"Average = \",average)"
      ],
      "execution_count": 9,
      "outputs": [
        {
          "output_type": "stream",
          "text": [
            "A = 2\n",
            "B = 3\n",
            "C = 4\n",
            "D = 5\n",
            "E = 6\n",
            "Average =  4.0\n"
          ],
          "name": "stdout"
        }
      ]
    },
    {
      "cell_type": "markdown",
      "metadata": {
        "id": "OpfiuwcbfqvI",
        "colab_type": "text"
      },
      "source": [
        "**5. Write a python program to calculate the perimeter of a circle.**"
      ]
    },
    {
      "cell_type": "code",
      "metadata": {
        "id": "1DUJa_rVf0X4",
        "colab_type": "code",
        "colab": {
          "base_uri": "https://localhost:8080/",
          "height": 50
        },
        "outputId": "63d925aa-28ef-44bd-ebbe-a1a53f353eb3"
      },
      "source": [
        "r = float(input(\"Radious = \"))\n",
        "perimeter = 2*3.1416*r\n",
        "print(\"Perimeter = \",perimeter)"
      ],
      "execution_count": 11,
      "outputs": [
        {
          "output_type": "stream",
          "text": [
            "Radious = 10\n",
            "Perimeter =  62.832\n"
          ],
          "name": "stdout"
        }
      ]
    },
    {
      "cell_type": "markdown",
      "metadata": {
        "id": "nWMvOs4xhNm0",
        "colab_type": "text"
      },
      "source": [
        "**6. Write a python program to calculate the surface area of a cylinder.**"
      ]
    },
    {
      "cell_type": "code",
      "metadata": {
        "id": "SCy5PdPBhfW3",
        "colab_type": "code",
        "colab": {
          "base_uri": "https://localhost:8080/",
          "height": 84
        },
        "outputId": "56593d8c-8601-4f3f-b8f6-2249a58f4383"
      },
      "source": [
        "r = float(input(\"r = \"))\n",
        "h = float(input(\"h = \"))\n",
        "\n",
        "volume = 3.1416*(r**2)*h\n",
        "surface_area = (2*3.1416*(r**2))+(2*3.1416*r*h)\n",
        "\n",
        "print(\"Volume = \",round(volume,2),\" square units\")\n",
        "print(\"Surface Area = \",surface_area,\" cube units\")"
      ],
      "execution_count": 14,
      "outputs": [
        {
          "output_type": "stream",
          "text": [
            "r = 10\n",
            "h = 5\n",
            "Volume =  1570.8  square units\n",
            "Surface Area =  942.48  cube units\n"
          ],
          "name": "stdout"
        }
      ]
    },
    {
      "cell_type": "markdown",
      "metadata": {
        "id": "F5xbWt41jtO6",
        "colab_type": "text"
      },
      "source": [
        "**7. Write a python program to calculate the volume of Cone.**"
      ]
    },
    {
      "cell_type": "code",
      "metadata": {
        "id": "YSV8AfT9j3KI",
        "colab_type": "code",
        "colab": {
          "base_uri": "https://localhost:8080/",
          "height": 67
        },
        "outputId": "9250fec0-fc84-495f-c0f5-1ec15675fc1c"
      },
      "source": [
        "r = float(input(\"Radious = \"))\n",
        "h = float(input(\"Height = \"))\n",
        "\n",
        "cone_volume = 3.1416*(r**2)*h\n",
        "print(\"Volume of cone = \",round(cone_volume,2),\"square units\")"
      ],
      "execution_count": 16,
      "outputs": [
        {
          "output_type": "stream",
          "text": [
            "Radious = 10\n",
            "Height = 5\n",
            "Volume of cone =  1570.8 square units\n"
          ],
          "name": "stdout"
        }
      ]
    },
    {
      "cell_type": "markdown",
      "metadata": {
        "id": "JueV6IpqlCcu",
        "colab_type": "text"
      },
      "source": [
        "**8. Write a python program to calculate the volume of cube.**"
      ]
    },
    {
      "cell_type": "code",
      "metadata": {
        "id": "jKMqQQrrlM_f",
        "colab_type": "code",
        "colab": {
          "base_uri": "https://localhost:8080/",
          "height": 84
        },
        "outputId": "644ea265-6697-4db5-e9df-ae02304120dc"
      },
      "source": [
        "a = float(input(\"Length of Edge = \"))\n",
        "s = float(input(\"S = \"))\n",
        "volume = a**3\n",
        "surface_area = 6*(s**2) \n",
        "print(\"Volume = \",volume)\n",
        "print(\"Surface = \",surface_area)"
      ],
      "execution_count": 19,
      "outputs": [
        {
          "output_type": "stream",
          "text": [
            "Length of Edge = 3\n",
            "S = 2\n",
            "Volume =  27.0\n",
            "Surface =  24.0\n"
          ],
          "name": "stdout"
        }
      ]
    },
    {
      "cell_type": "markdown",
      "metadata": {
        "id": "vz6Sz-S1lz0N",
        "colab_type": "text"
      },
      "source": [
        "**9. Write a python program to calculate the volume of Sphere.**"
      ]
    },
    {
      "cell_type": "code",
      "metadata": {
        "id": "2-WSZY9FnmnO",
        "colab_type": "code",
        "colab": {
          "base_uri": "https://localhost:8080/",
          "height": 67
        },
        "outputId": "698a2b95-db52-469d-8122-583c851e4c93"
      },
      "source": [
        "r = float(input(\"r = \"))\n",
        "volume = (4/3)*3.1416*(r**3)\n",
        "surface = 4*3.1416*(r**2)\n",
        "\n",
        "print(\"Volume = \",round(volume,2))\n",
        "print(\"Surface = \",round(surface,2))"
      ],
      "execution_count": 21,
      "outputs": [
        {
          "output_type": "stream",
          "text": [
            "r = 10\n",
            "Volume =  4188.8\n",
            "Surface =  1256.64\n"
          ],
          "name": "stdout"
        }
      ]
    }
  ]
}
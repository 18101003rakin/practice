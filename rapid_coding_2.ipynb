{
  "nbformat": 4,
  "nbformat_minor": 0,
  "metadata": {
    "colab": {
      "name": "rapid_coding_2.ipynb",
      "provenance": [],
      "authorship_tag": "ABX9TyPAyuNEWPomeUkixYZZeove",
      "include_colab_link": true
    },
    "kernelspec": {
      "name": "python3",
      "display_name": "Python 3"
    }
  },
  "cells": [
    {
      "cell_type": "markdown",
      "metadata": {
        "id": "view-in-github",
        "colab_type": "text"
      },
      "source": [
        "<a href=\"https://colab.research.google.com/github/18101003rakin/practice/blob/master/rapid_coding_2.ipynb\" target=\"_parent\"><img src=\"https://colab.research.google.com/assets/colab-badge.svg\" alt=\"Open In Colab\"/></a>"
      ]
    },
    {
      "cell_type": "markdown",
      "metadata": {
        "id": "b2Vmy0JXtKNn",
        "colab_type": "text"
      },
      "source": [
        "**1. Print the largest value from three given integers.**"
      ]
    },
    {
      "cell_type": "code",
      "metadata": {
        "id": "mpxTXI34qPt9",
        "colab_type": "code",
        "colab": {
          "base_uri": "https://localhost:8080/",
          "height": 84
        },
        "outputId": "bf649f5c-dbb4-4aa0-b011-5397ccdf9715"
      },
      "source": [
        "a = int(input(\"A= \"))\n",
        "b = int(input(\"B= \"))\n",
        "c = int(input(\"C= \"))\n",
        "\n",
        "if a>b:\n",
        "  if a>c:\n",
        "    print(\"A is largest\")\n",
        "  else:\n",
        "    print(\"C is largest\")\n",
        "elif b>a:\n",
        "    if b>c:\n",
        "      print(\"B is largest\")   \n",
        "    else:\n",
        "      print(\"C is largest\")       "
      ],
      "execution_count": 7,
      "outputs": [
        {
          "output_type": "stream",
          "text": [
            "A= 10\n",
            "B= 30\n",
            "C= 20\n",
            "B is largest\n"
          ],
          "name": "stdout"
        }
      ]
    },
    {
      "cell_type": "markdown",
      "metadata": {
        "id": "KFkby63ewmnh",
        "colab_type": "text"
      },
      "source": [
        "**2. Print the minimum value from three given integers.**\n"
      ]
    },
    {
      "cell_type": "code",
      "metadata": {
        "id": "PgiPpUgawyiT",
        "colab_type": "code",
        "colab": {
          "base_uri": "https://localhost:8080/",
          "height": 84
        },
        "outputId": "391c8129-1a71-4db8-a3a0-f43a19e8eb52"
      },
      "source": [
        "a = int(input(\"A= \"))\n",
        "b = int(input(\"B= \"))\n",
        "c = int(input(\"C= \"))\n",
        "\n",
        "if a<b:\n",
        "  if a<c:\n",
        "    print(\"A is lowest\")\n",
        "  else:\n",
        "      print(\"C is lowest\")  \n",
        "elif b<a:\n",
        "    if b<c:\n",
        "      print(\"B is lowest\")\n",
        "    else:\n",
        "      print(\"C is lowest\")  \n"
      ],
      "execution_count": 15,
      "outputs": [
        {
          "output_type": "stream",
          "text": [
            "A= 2\n",
            "B= 3\n",
            "C= 1\n",
            "C is lowest\n"
          ],
          "name": "stdout"
        }
      ]
    },
    {
      "cell_type": "markdown",
      "metadata": {
        "id": "XyJcZhcF1fOB",
        "colab_type": "text"
      },
      "source": [
        "**3. Write a python program to calculate the grade of an exam. The exam mark will be given as input. Follow the UAP rule for grading.**\n"
      ]
    },
    {
      "cell_type": "code",
      "metadata": {
        "id": "TLzXxt3e1scy",
        "colab_type": "code",
        "colab": {
          "base_uri": "https://localhost:8080/",
          "height": 50
        },
        "outputId": "6067977e-04c3-4031-926a-e4b62ea97526"
      },
      "source": [
        "marks = float(input(\"Marks = \"))\n",
        "\n",
        "if marks>=80 and marks<=100:\n",
        "  print(\"A+\")\n",
        "elif marks>=70 and marks<80:\n",
        "  print(\"A\")\n",
        "elif marks>=60 and marks<70:\n",
        "  print(\"A-\")\n",
        "elif marks>=50 and marks<60:\n",
        "  print(\"B\")\n",
        "elif marks>=40 and marks<50:\n",
        "  print(\"B\")\n",
        "else:\n",
        "  print(\"F\")          \n"
      ],
      "execution_count": 23,
      "outputs": [
        {
          "output_type": "stream",
          "text": [
            "Marks = 22\n",
            "F\n"
          ],
          "name": "stdout"
        }
      ]
    },
    {
      "cell_type": "markdown",
      "metadata": {
        "id": "PyDqxOKn3r4S",
        "colab_type": "text"
      },
      "source": [
        "**4. Write a python code to determine odd or even.**"
      ]
    },
    {
      "cell_type": "code",
      "metadata": {
        "id": "GAmczBiW372c",
        "colab_type": "code",
        "colab": {
          "base_uri": "https://localhost:8080/",
          "height": 50
        },
        "outputId": "81a9e537-5b21-4eda-9457-52298f2598f8"
      },
      "source": [
        "a = int(input(\"a = \"))\n",
        "if a%2==0:\n",
        "  print(\"Even\")\n",
        "else:\n",
        "  print(\"Odd\")  "
      ],
      "execution_count": 26,
      "outputs": [
        {
          "output_type": "stream",
          "text": [
            "a = 4\n",
            "Even\n"
          ],
          "name": "stdout"
        }
      ]
    },
    {
      "cell_type": "markdown",
      "metadata": {
        "id": "lpapzpmF4Vbm",
        "colab_type": "text"
      },
      "source": [
        "**5. Write a python code to determine negative or non-negative.**"
      ]
    },
    {
      "cell_type": "code",
      "metadata": {
        "id": "RLxaUpA84rrd",
        "colab_type": "code",
        "colab": {
          "base_uri": "https://localhost:8080/",
          "height": 50
        },
        "outputId": "e61d1a0f-f643-4f39-ddf7-8e6baf18ad31"
      },
      "source": [
        "a = float(input(\"a= \"))\n",
        "\n",
        "if a>0:\n",
        "  print(\"Non negative\")\n",
        "elif a<0:\n",
        "  print(\"Negative\")  \n",
        "else:\n",
        "  print(\"Zero\")  "
      ],
      "execution_count": 32,
      "outputs": [
        {
          "output_type": "stream",
          "text": [
            "a= -8\n",
            "Negative\n"
          ],
          "name": "stdout"
        }
      ]
    },
    {
      "cell_type": "markdown",
      "metadata": {
        "id": "yf8IwMYx5T8W",
        "colab_type": "text"
      },
      "source": [
        "**6. Write a program to check Leap year.**"
      ]
    },
    {
      "cell_type": "code",
      "metadata": {
        "id": "ya8m-7fM5a5j",
        "colab_type": "code",
        "colab": {
          "base_uri": "https://localhost:8080/",
          "height": 50
        },
        "outputId": "f6b48852-706f-4615-9793-13a6c888f56d"
      },
      "source": [
        "year = int(input(\"Year = \"))\n",
        "\n",
        "if year%400 == 0:\n",
        "  print(\"Leap Year\")\n",
        "elif year%100 == 0:\n",
        "  print(\"Not leap year\")\n",
        "elif year%4 == 0:\n",
        "  print(\"Leap year\")\n",
        "else:\n",
        "  print(\"Not leap year\")      "
      ],
      "execution_count": 35,
      "outputs": [
        {
          "output_type": "stream",
          "text": [
            "Year = 2019\n",
            "Not leap year\n"
          ],
          "name": "stdout"
        }
      ]
    },
    {
      "cell_type": "markdown",
      "metadata": {
        "id": "OMMesJjR6ecm",
        "colab_type": "text"
      },
      "source": [
        "**7. Given a string of length 12, divide the string into 4 parts of length 3. Then swap the first part with the last part. Output the final string. \n",
        ".**"
      ]
    },
    {
      "cell_type": "code",
      "metadata": {
        "id": "ix4V_ezm6plp",
        "colab_type": "code",
        "colab": {
          "base_uri": "https://localhost:8080/",
          "height": 50
        },
        "outputId": "756db87e-eb1b-4300-96d7-f4a9baad86b4"
      },
      "source": [
        "st = str(input(\"Enter a string(length=12) = \"))\n",
        "\n",
        "string_1 = st[ :3]\n",
        "string_2 =st[3:6]\n",
        "string_3 =st[6:9]\n",
        "string_4 =st[9:12]\n",
        "\n",
        "string = string_4+string_2+string_3+string_1\n",
        "\n",
        "print(string)"
      ],
      "execution_count": 40,
      "outputs": [
        {
          "output_type": "stream",
          "text": [
            "Enter a string(length=12) = ABCDEFGHIJKL\n",
            "JKLDEFGHIABC\n"
          ],
          "name": "stdout"
        }
      ]
    },
    {
      "cell_type": "markdown",
      "metadata": {
        "id": "9GfrwANfCDGJ",
        "colab_type": "text"
      },
      "source": [
        "**8. Suppose you are going to start a Django Project with a group of 5 members. Now, you need to store the information (Name, ID, CGPA, Email_Address, and Contact_no) about the group members in some variables. Choose the appropriate data type to store these information.**"
      ]
    },
    {
      "cell_type": "code",
      "metadata": {
        "id": "g-32vx3fDx3o",
        "colab_type": "code",
        "colab": {
          "base_uri": "https://localhost:8080/",
          "height": 101
        },
        "outputId": "95f32dd9-2f7b-45d7-bcda-3d0f5c2ffb19"
      },
      "source": [
        "Students = {\n",
        "\n",
        "     1 : {\n",
        "         \"ID\" : \"1\",\n",
        "         \"Name\" : \"Peter\",\n",
        "         \"Email\" : \"peter24@university.edu\",\n",
        "         \"Year of Birth\" : 1993\n",
        "     },    \n",
        "\n",
        "     2 : {\n",
        "         \"ID\" : \"2\",\n",
        "         \"Name\" : \"Jashim\",\n",
        "         \"Email\" : \"jashim24@university.edu\",\n",
        "         \"Year of Birth\" : 1998\n",
        "     },  \n",
        "\n",
        "     3 : {\n",
        "         \"ID\" : \"3\",\n",
        "         \"Name\" : \"Bithee\",\n",
        "         \"Email\" : \"bithee24@university.edu\",\n",
        "         \"Year of Birth\" : 2000\n",
        "     },      \n",
        "\n",
        "     5 : {\n",
        "         \"ID\" : \"5\",\n",
        "         \"Name\" : \"Sakib\",\n",
        "         \"Email\" : \"sakib24@university.edu\",\n",
        "         \"Year of Birth\" : 1999\n",
        "     },    \n",
        "\n",
        "     4 : {\n",
        "         \"ID\" : \"4\",\n",
        "         \"Name\" : \"Limon\",\n",
        "         \"Email\" : \"limon24@university.edu\",\n",
        "         \"Year of Birth\" : 1997\n",
        "     }    \n",
        "\n",
        "\n",
        "\n",
        "}\n",
        "\n",
        "id = int(input(\"Enter id : \"))\n",
        "Students[id]"
      ],
      "execution_count": 42,
      "outputs": [
        {
          "output_type": "stream",
          "text": [
            "Enter id : 3\n"
          ],
          "name": "stdout"
        },
        {
          "output_type": "execute_result",
          "data": {
            "text/plain": [
              "{'Email': 'bithee24@university.edu',\n",
              " 'ID': '3',\n",
              " 'Name': 'Bithee',\n",
              " 'Year of Birth': 2000}"
            ]
          },
          "metadata": {
            "tags": []
          },
          "execution_count": 42
        }
      ]
    },
    {
      "cell_type": "markdown",
      "metadata": {
        "id": "p7vY-hZqF9NN",
        "colab_type": "text"
      },
      "source": [
        "**9. Suppose you are going to start a Django Project and you have selected “Library Management System” as your project. Now, at some point you need to store information about books. Currently, you have 5 books. The information you are interested in are Name, Author’s name, Publication Date, Printing date and Price.  Choose the appropriate data type to store these information.**"
      ]
    },
    {
      "cell_type": "code",
      "metadata": {
        "id": "ou5uGaRsGSTu",
        "colab_type": "code",
        "colab": {
          "base_uri": "https://localhost:8080/",
          "height": 101
        },
        "outputId": "8a123219-6227-4ae5-b6f2-9232bdfe0538"
      },
      "source": [
        "Books = {\n",
        "    \n",
        "    1 : {\n",
        "        \n",
        "        \"Name\" : \"Pather Pachali\",\n",
        "        \"Author's Name\" : \"Bivutibhusan\",\n",
        "        \"Printing Date\" : 1940,\n",
        "        \"Price\" : 350\n",
        "\n",
        "    },\n",
        "\n",
        "  2 : {\n",
        "        \n",
        "        \"Name\" : \"Dorojar opare\",\n",
        "        \"Author's Name\" : \"Humayun Ahmed\",\n",
        "        \"Printing Date\" : 1995,\n",
        "        \"Price\" : 300\n",
        "\n",
        "    },\n",
        "\n",
        "  3 : {\n",
        "        \n",
        "        \"Name\" : \"The lighthouse\",\n",
        "        \"Author's Name\" : \"Jule Vern\",\n",
        "        \"Printing Date\" : 1840,\n",
        "        \"Price\" : 400\n",
        "\n",
        "    },\n",
        "\n",
        "  4 : {\n",
        "        \n",
        "        \"Name\" : \"Data Communication\",\n",
        "        \"Author's Name\" : \"Forouzan\",\n",
        "        \"Printing Date\" : 2008,\n",
        "        \"Price\" : 500\n",
        "\n",
        "    },\n",
        "\n",
        "  5 : {\n",
        "        \n",
        "        \"Name\" : \"Automata Theory\",\n",
        "        \"Author's Name\" : \"Ullman\",\n",
        "        \"Printing Date\" : 1970,\n",
        "        \"Price\" : 1000\n",
        "\n",
        "    }  \n",
        "\n",
        "        \n",
        "\n",
        "}\n",
        "book_no = int(input(\"Enter Book Number : \"))\n",
        "Books[book_no] "
      ],
      "execution_count": 43,
      "outputs": [
        {
          "output_type": "stream",
          "text": [
            "Enter Book Number : 2\n"
          ],
          "name": "stdout"
        },
        {
          "output_type": "execute_result",
          "data": {
            "text/plain": [
              "{\"Author's Name\": 'Humayun Ahmed',\n",
              " 'Name': 'Dorojar opare',\n",
              " 'Price': 300,\n",
              " 'Printing Date': 1995}"
            ]
          },
          "metadata": {
            "tags": []
          },
          "execution_count": 43
        }
      ]
    },
    {
      "cell_type": "markdown",
      "metadata": {
        "id": "VZqfGOhiIuOY",
        "colab_type": "text"
      },
      "source": [
        "**10. Choose appropriate variables to store the following information**"
      ]
    },
    {
      "cell_type": "code",
      "metadata": {
        "id": "YZgqNqmMLaUB",
        "colab_type": "code",
        "colab": {
          "base_uri": "https://localhost:8080/",
          "height": 118
        },
        "outputId": "705923e2-0ca8-462f-e523-0e400064c632"
      },
      "source": [
        "Students = {\n",
        "    1 : {\n",
        "      \"Name\" : \"John Smith\",\n",
        "      \"Activity_1\" : \"Tennis\",\n",
        "      \"Cost_1\" : \"$36\",\n",
        "      \"Activity_2\" : \"Swiming\",\n",
        "      \"Cost_2\" : \"$17\"  \n",
        "        },\n",
        "\n",
        "    2 : {\n",
        "      \"Name\" : \"Jane Blogg\",\n",
        "      \"Activity_1\" : \"Squash\",\n",
        "      \"Cost_1\" : \"$40\",\n",
        "      \"Activity_2\" : \"Swiming\",\n",
        "      \"Cost_2\" : \"$17\"  \n",
        "        },\n",
        "\n",
        "   3 : {\n",
        "      \"Name\" : \"John Smith\",\n",
        "      \"Activity_1\" : \"Tennis\",\n",
        "      \"Cost_1\" : \"$36\",\n",
        "      \"Activity_2\" : \" \",\n",
        "      \"Cost_2\" : \" \"  \n",
        "        },\n",
        "\n",
        "  4 : {\n",
        "      \"Name\" : \"Mark Antony\",\n",
        "      \"Activity_1\" : \"Swiming\",\n",
        "      \"Cost_1\" : \"$15\",\n",
        "      \"Activity_2\" : \"Golf\",\n",
        "      \"Cost_2\" : \"$47\"  \n",
        "        },\n",
        "    \n",
        "}\n",
        "\n",
        "number = int(input(\"Enter Student Number: \"))\n",
        "Students[number]"
      ],
      "execution_count": 44,
      "outputs": [
        {
          "output_type": "stream",
          "text": [
            "Enter Student Number: 4\n"
          ],
          "name": "stdout"
        },
        {
          "output_type": "execute_result",
          "data": {
            "text/plain": [
              "{'Activity_1': 'Swiming',\n",
              " 'Activity_2': 'Golf',\n",
              " 'Cost_1': '$15',\n",
              " 'Cost_2': '$47',\n",
              " 'Name': 'Mark Antony'}"
            ]
          },
          "metadata": {
            "tags": []
          },
          "execution_count": 44
        }
      ]
    },
    {
      "cell_type": "markdown",
      "metadata": {
        "id": "pUqe1jxMPhQW",
        "colab_type": "text"
      },
      "source": [
        "**11. Choose variables of appropriate data type to store the following information.**\n"
      ]
    },
    {
      "cell_type": "code",
      "metadata": {
        "id": "PqF3RFkFP2lm",
        "colab_type": "code",
        "colab": {
          "base_uri": "https://localhost:8080/",
          "height": 101
        },
        "outputId": "16c9860b-6c98-4a1a-b7af-f077a86f12a9"
      },
      "source": [
        "Employees = {\n",
        "    \n",
        "     77920 : {\n",
        "         \"EmpID\" : 77920,\n",
        "         \"Last Name\" : \"Jackson\",\n",
        "         \"First Name\" : \"Stephen\",\n",
        "         \"Hire Date\" : \"11.29.1997\"\n",
        "\n",
        "     },\n",
        "\n",
        "    77921 : {\n",
        "         \"EmpID\" : 77921,\n",
        "         \"Last Name\" : \"Reynolds\",\n",
        "         \"First Name\" : \"Sandy\",\n",
        "         \"Hire Date\" : \"01.04.1993\"\n",
        "\n",
        "     },\n",
        "\n",
        "    77922 : {\n",
        "         \"EmpID\" : 77922,\n",
        "         \"Last Name\" : \"Armstrong\",\n",
        "         \"First Name\" : \"Stephen\",\n",
        "         \"Hire Date\" : \"09.16.1989\"\n",
        "\n",
        "     }, \n",
        "\n",
        "    77923 : {\n",
        "         \"EmpID\" : 77923,\n",
        "         \"Last Name\" : \"Jackson\",\n",
        "         \"First Name\" : \"Linda\",\n",
        "         \"Hire Date\" : \"10.09.1996\"\n",
        "\n",
        "     }\n",
        "\n",
        "}\n",
        "id = int(input(\"Employee ID : \"))\n",
        "Employees[id]"
      ],
      "execution_count": 46,
      "outputs": [
        {
          "output_type": "stream",
          "text": [
            "Employee ID : 77922\n"
          ],
          "name": "stdout"
        },
        {
          "output_type": "execute_result",
          "data": {
            "text/plain": [
              "{'EmpID': 77922,\n",
              " 'First Name': 'Stephen',\n",
              " 'Hire Date': '09.16.1989',\n",
              " 'Last Name': 'Armstrong'}"
            ]
          },
          "metadata": {
            "tags": []
          },
          "execution_count": 46
        }
      ]
    },
    {
      "cell_type": "markdown",
      "metadata": {
        "id": "3HNtiWZKRshg",
        "colab_type": "text"
      },
      "source": [
        "**12. Choose variables of appropriate data type to store the information of the following table in a way that if someone inputs the ID, it will show all the information of that student.** \n"
      ]
    },
    {
      "cell_type": "code",
      "metadata": {
        "id": "lStc6MfqSD5A",
        "colab_type": "code",
        "colab": {
          "base_uri": "https://localhost:8080/",
          "height": 118
        },
        "outputId": "48d0b58e-5784-47c2-b7a6-ad4fc129e455"
      },
      "source": [
        "Students = {\n",
        "    \n",
        "  1 : {\n",
        "         \"ID\" : \"1\",\n",
        "         \"Last Name\" : \"Lee\",\n",
        "         \"First Name\" : \"Peter\",\n",
        "         \"Email\" : \"plee@university.edu\",\n",
        "         \"Year of Birth\" : \"1992\"\n",
        "\n",
        "     },\n",
        "\n",
        "  2  : {\n",
        "         \"ID\" : \"2\",\n",
        "         \"Last Name\" : \"Edward\", \n",
        "         \"First Name\" : \"Jonathan\",\n",
        "         \"Email\" : \"jadward@university.edu\",\n",
        "         \"Year of Birth\" : \"1977\"\n",
        "\n",
        "     },\n",
        "\n",
        "   3 : {\n",
        "         \"ID\" : \"3\",\n",
        "         \"Last Name\" : \"Johnson\",\n",
        "         \"First Name\" : \"Marlyn\",\n",
        "         \"Email\" : \"mjohnson@university.edu\",\n",
        "         \"Year of Birth\" : \"1993\"\n",
        "\n",
        "     }     \n",
        "\n",
        "\n",
        "}\n",
        "\n",
        "id = int(input(\"ID : \"))\n",
        "Students[id]"
      ],
      "execution_count": 51,
      "outputs": [
        {
          "output_type": "stream",
          "text": [
            "ID : 2\n"
          ],
          "name": "stdout"
        },
        {
          "output_type": "execute_result",
          "data": {
            "text/plain": [
              "{'Email': 'jadward@university.edu',\n",
              " 'First Name': 'Jonathan',\n",
              " 'ID': '2',\n",
              " 'Last Name': 'Edward',\n",
              " 'Year of Birth': '1977'}"
            ]
          },
          "metadata": {
            "tags": []
          },
          "execution_count": 51
        }
      ]
    }
  ]
}
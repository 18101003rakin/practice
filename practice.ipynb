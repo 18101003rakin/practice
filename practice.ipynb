{
  "nbformat": 4,
  "nbformat_minor": 0,
  "metadata": {
    "colab": {
      "name": "practice.ipynb",
      "provenance": [],
      "authorship_tag": "ABX9TyMth1HpJXeszQYFe4f7kMFw",
      "include_colab_link": true
    },
    "kernelspec": {
      "name": "python3",
      "display_name": "Python 3"
    }
  },
  "cells": [
    {
      "cell_type": "markdown",
      "metadata": {
        "id": "view-in-github",
        "colab_type": "text"
      },
      "source": [
        "<a href=\"https://colab.research.google.com/github/18101003rakin/practice/blob/master/practice.ipynb\" target=\"_parent\"><img src=\"https://colab.research.google.com/assets/colab-badge.svg\" alt=\"Open In Colab\"/></a>"
      ]
    },
    {
      "cell_type": "markdown",
      "metadata": {
        "id": "mqYK3NE7PwLQ",
        "colab_type": "text"
      },
      "source": [
        "**problem 2**"
      ]
    },
    {
      "cell_type": "code",
      "metadata": {
        "id": "-ZWOj4BkPoRm",
        "colab_type": "code",
        "colab": {}
      },
      "source": [
        "class Student:\n",
        "  def __init__(self,name,id,dept,email):\n",
        "    self.name = name\n",
        "    self.id = id\n",
        "    self.dept = dept\n",
        "    self.email = email\n",
        "\n",
        "  def showinfo(self):\n",
        "    print(\"Name : \",self.name)\n",
        "    print(\"ID : \",self.id)\n",
        "    print(\"Dept : \",self.dept)\n",
        "    print(\"Email : \",self.email)\n",
        "\n",
        "    \n",
        "\n",
        "\n"
      ],
      "execution_count": 5,
      "outputs": []
    },
    {
      "cell_type": "code",
      "metadata": {
        "id": "58aGJfa_TFxw",
        "colab_type": "code",
        "colab": {}
      },
      "source": [
        "student1 = Student(\"Sakib\",\"18101001\",\"CSE\",\"18101001@gmail.com\") \n",
        "student2 = Student(\"Rabby\",\"18101011\",\"EEE\",\"18101011@gmail.com\") \n",
        "student3 = Student(\"Dalim\",\"18101021\",\"BBA\",\"18101021@gmail.com\")"
      ],
      "execution_count": 12,
      "outputs": []
    },
    {
      "cell_type": "code",
      "metadata": {
        "id": "WR08200ITKD6",
        "colab_type": "code",
        "colab": {
          "base_uri": "https://localhost:8080/",
          "height": 84
        },
        "outputId": "f1c75cb9-1085-4ff8-8a70-585a94222754"
      },
      "source": [
        "student1.showinfo()"
      ],
      "execution_count": 13,
      "outputs": [
        {
          "output_type": "stream",
          "text": [
            "Name :  Sakib\n",
            "ID :  18101001\n",
            "Dept :  CSE\n",
            "Email :  18101001@gmail.com\n"
          ],
          "name": "stdout"
        }
      ]
    },
    {
      "cell_type": "code",
      "metadata": {
        "id": "awCQTMsiTQiP",
        "colab_type": "code",
        "colab": {
          "base_uri": "https://localhost:8080/",
          "height": 34
        },
        "outputId": "4792bc42-91f9-427e-8a6f-d8ef5120aea4"
      },
      "source": [
        "print(student1.name)"
      ],
      "execution_count": 14,
      "outputs": [
        {
          "output_type": "stream",
          "text": [
            "Sakib\n"
          ],
          "name": "stdout"
        }
      ]
    }
  ]
}
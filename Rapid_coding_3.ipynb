{
  "nbformat": 4,
  "nbformat_minor": 0,
  "metadata": {
    "colab": {
      "name": "Rapid_coding_3.ipynb",
      "provenance": [],
      "authorship_tag": "ABX9TyN7nCpv3f88IsvkDHdbTBcN",
      "include_colab_link": true
    },
    "kernelspec": {
      "name": "python3",
      "display_name": "Python 3"
    }
  },
  "cells": [
    {
      "cell_type": "markdown",
      "metadata": {
        "id": "view-in-github",
        "colab_type": "text"
      },
      "source": [
        "<a href=\"https://colab.research.google.com/github/18101003rakin/practice/blob/master/Rapid_coding_3.ipynb\" target=\"_parent\"><img src=\"https://colab.research.google.com/assets/colab-badge.svg\" alt=\"Open In Colab\"/></a>"
      ]
    },
    {
      "cell_type": "markdown",
      "metadata": {
        "id": "sibkbE_uwQxK",
        "colab_type": "text"
      },
      "source": [
        "**1. You have a group of 3 students. Each student has a name, ID and dept stored in a \tdictionary. And all 3 students are stored in a “students” dictionary. Now use a loop to iterate through the “students” dictionary and print only the “name” of all the students.**\n"
      ]
    },
    {
      "cell_type": "code",
      "metadata": {
        "id": "EVBA4G_JwK_U",
        "colab_type": "code",
        "colab": {
          "base_uri": "https://localhost:8080/",
          "height": 50
        },
        "outputId": "f493f62a-ed42-4f9b-b46b-24e00389bf6b"
      },
      "source": [
        "student_1 = {\n",
        "    \"Name\" : \"Mredul Khan\",\n",
        "    \"ID\" : \"18101027\",\n",
        "    \"Dept\" : \"CSE\"\n",
        "}\n",
        "\n",
        "student_2 = {\n",
        "    \"Name\" : \"Nafees Imtiaj\",\n",
        "    \"ID\" : \"18101008\",\n",
        "    \"Dept\" : \"CSE\"\n",
        "}\n",
        "\n",
        "student_3 = {\n",
        "    \"Name\" : \"Sk. Joy\",\n",
        "    \"ID\" : \"18101020\",\n",
        "    \"Dept\" : \"CSE\"\n",
        "}\n",
        "\n",
        "Students = {1:student_1, 2:student_2, 3:student_3}\n",
        "\n",
        "id = int(input(\"Enter ID : \"))\n",
        "\n",
        "for i in Students:\n",
        "  if id == i:\n",
        "    print(Students[i][\"Name\"])\n",
        "\n"
      ],
      "execution_count": 1,
      "outputs": [
        {
          "output_type": "stream",
          "text": [
            "Enter ID : 2\n",
            "Nafees Imtiaj\n"
          ],
          "name": "stdout"
        }
      ]
    },
    {
      "cell_type": "markdown",
      "metadata": {
        "id": "DZMrerFR0SyL",
        "colab_type": "text"
      },
      "source": [
        "**2. You have a list of students. Each student’s information is stored using a dictionary. \n",
        "Now write a python program to search a student by his/her ID. Use a loop and conditional so that this can also work on a big list of students.**\n"
      ]
    },
    {
      "cell_type": "code",
      "metadata": {
        "id": "zgxOA7zJ0sjw",
        "colab_type": "code",
        "colab": {
          "base_uri": "https://localhost:8080/",
          "height": 50
        },
        "outputId": "764b809f-f380-4061-9baf-01c895d990b2"
      },
      "source": [
        "stu_1 = {\n",
        "    \"ID\" : \"1\",\n",
        "    \"Last Name\" : \"Lee\",\n",
        "    \"First Name\" : \"Peter\",\n",
        "    \"Email\" : \"plee@gmail.com\",\n",
        "    \"Year of Birth\" : \"1999\"\n",
        "}\n",
        "stu_2 = {\n",
        "    \"ID\" : \"2\",\n",
        "    \"Last Name\" : \"Edward\",\n",
        "    \"First Name\" : \"Jonathon\",\n",
        "    \"Email\" : \"jedward@gmail.com\",\n",
        "    \"Year of Birth\" : \"1998\"\n",
        "}\n",
        "stu_3 = {\n",
        "    \"ID\" : \"3\",\n",
        "    \"Last Name\" : \"Johnson\",\n",
        "    \"First Name\" : \"Marlyn\",\n",
        "    \"Email\" : \"mjohnson@gmail.com\",\n",
        "    \"Year of Birth\" : \"1997\"\n",
        "}\n",
        "stu_4 = {\n",
        "    \"ID\" : \"6\",\n",
        "    \"Last Name\" : \"Kim\",\n",
        "    \"First Name\" : \"Joe\",\n",
        "    \"Email\" : \"jkim@gmail.com\",\n",
        "    \"Year of Birth\" : \"1995\"\n",
        "}\n",
        "\n",
        "id = int(input(\"ID = \"))\n",
        "Students = {1:stu_1, 2:stu_2, 3:stu_3, 6:stu_4 }\n",
        "for i in Students:\n",
        "  if id == i:\n",
        "    print(Students[i])"
      ],
      "execution_count": 4,
      "outputs": [
        {
          "output_type": "stream",
          "text": [
            "ID = 2\n",
            "{'ID': '2', 'Last Name': 'Edward', 'First Name': 'Jonathon', 'Email': 'jedward@gmail.com', 'Year of Birth': '1998'}\n"
          ],
          "name": "stdout"
        }
      ]
    },
    {
      "cell_type": "markdown",
      "metadata": {
        "id": "puZivuYK6J59",
        "colab_type": "text"
      },
      "source": [
        "**3(a). sum 1 + 3 + 5 + 7 + …. Up to n-th term = ?**"
      ]
    },
    {
      "cell_type": "code",
      "metadata": {
        "id": "iW6LlH0S6Vkv",
        "colab_type": "code",
        "colab": {
          "base_uri": "https://localhost:8080/",
          "height": 50
        },
        "outputId": "b7e74aa5-cbc2-4417-b51d-63295a4e310a"
      },
      "source": [
        "a = int(input(\"a = \"))\n",
        "sum = 0\n",
        "for i in range (1, a+1):\n",
        "    sum = sum+i\n",
        "    i=i+1\n",
        "print(sum)    "
      ],
      "execution_count": 14,
      "outputs": [
        {
          "output_type": "stream",
          "text": [
            "a = 10\n",
            "55\n"
          ],
          "name": "stdout"
        }
      ]
    },
    {
      "cell_type": "markdown",
      "metadata": {
        "id": "LtQZdyVE9zZn",
        "colab_type": "text"
      },
      "source": [
        "**3(b). sum 2 + 4 + 6 + ….. + 2n = ?**"
      ]
    },
    {
      "cell_type": "code",
      "metadata": {
        "id": "RM3ackUh9_pF",
        "colab_type": "code",
        "colab": {
          "base_uri": "https://localhost:8080/",
          "height": 50
        },
        "outputId": "9adfef34-07a4-4979-f2e8-2e887ceef3fe"
      },
      "source": [
        "n = int(input(\"n = \"))\n",
        "sum = 0\n",
        "for i in range(1, 2*n+1):\n",
        "  sum = sum+i\n",
        "  i=i+1\n",
        "print(sum)  "
      ],
      "execution_count": 16,
      "outputs": [
        {
          "output_type": "stream",
          "text": [
            "n = 5\n",
            "55\n"
          ],
          "name": "stdout"
        }
      ]
    },
    {
      "cell_type": "markdown",
      "metadata": {
        "id": "gZ3-gSDo-glc",
        "colab_type": "text"
      },
      "source": [
        "**3(c). sum 2 + 4 + 8 + ….. + n2 = ?**\n"
      ]
    },
    {
      "cell_type": "code",
      "metadata": {
        "id": "vvpclM8t-pwY",
        "colab_type": "code",
        "colab": {
          "base_uri": "https://localhost:8080/",
          "height": 50
        },
        "outputId": "c70212e2-2229-4186-81ca-d341a2ebe6ec"
      },
      "source": [
        "n = int(input(\"n = \"))\n",
        "sum = 0\n",
        "for i in range(1, (n**2)+1):\n",
        "  sum = sum+i\n",
        "  i=i+1\n",
        "print(sum)  "
      ],
      "execution_count": 17,
      "outputs": [
        {
          "output_type": "stream",
          "text": [
            "n = 2\n",
            "10\n"
          ],
          "name": "stdout"
        }
      ]
    },
    {
      "cell_type": "markdown",
      "metadata": {
        "id": "7BH4Cce4_KwZ",
        "colab_type": "text"
      },
      "source": [
        "**3(c). sum log(1) + log(2) + log(3) + …. + log(n) = ?**\n"
      ]
    },
    {
      "cell_type": "code",
      "metadata": {
        "id": "X9j3M_j9Brjf",
        "colab_type": "code",
        "colab": {
          "base_uri": "https://localhost:8080/",
          "height": 50
        },
        "outputId": "7aa44445-b683-4fcc-9891-a2a7b88a10f2"
      },
      "source": [
        "import math\n",
        "\n",
        "sum = 0\n",
        "n = int(input(\"n = \"))\n",
        "\n",
        "for i in range (1, n+1):\n",
        "  sum = sum + math.log10(i)\n",
        "print(round(sum,2))  "
      ],
      "execution_count": 20,
      "outputs": [
        {
          "output_type": "stream",
          "text": [
            "n = 3\n",
            "0.78\n"
          ],
          "name": "stdout"
        }
      ]
    }
  ]
}
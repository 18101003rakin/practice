{
  "nbformat": 4,
  "nbformat_minor": 0,
  "metadata": {
    "colab": {
      "name": "Text_to_Binary.ipynb",
      "provenance": [],
      "authorship_tag": "ABX9TyNmqMZSJfnQfcuXHWzGRIxX",
      "include_colab_link": true
    },
    "kernelspec": {
      "name": "python3",
      "display_name": "Python 3"
    }
  },
  "cells": [
    {
      "cell_type": "markdown",
      "metadata": {
        "id": "view-in-github",
        "colab_type": "text"
      },
      "source": [
        "<a href=\"https://colab.research.google.com/github/18101003rakin/practice/blob/master/Text_to_Binary.ipynb\" target=\"_parent\"><img src=\"https://colab.research.google.com/assets/colab-badge.svg\" alt=\"Open In Colab\"/></a>"
      ]
    },
    {
      "cell_type": "code",
      "metadata": {
        "id": "g1GKHYdl5wKB",
        "colab_type": "code",
        "colab": {
          "base_uri": "https://localhost:8080/",
          "height": 67
        },
        "outputId": "968d3234-b016-474c-ecbd-68dbde44ce88"
      },
      "source": [
        "#RAKIN\n",
        "import binascii\n",
        "if __name__ == \"__main__\":\n",
        "  text_to_convert = input(\"Text : \")\n",
        "  print(str(text_to_convert))\n",
        "\n",
        "  text_in_bin = \"\".join(format(ord(i),'b')for i in text)\n",
        "  print(str( text_in_bin))"
      ],
      "execution_count": null,
      "outputs": [
        {
          "output_type": "stream",
          "text": [
            "Text : Hello World\n",
            "Hello World\n",
            "1110111110010111001011110010\n"
          ],
          "name": "stdout"
        }
      ]
    }
  ]
}
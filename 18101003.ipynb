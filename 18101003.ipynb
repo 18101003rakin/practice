{
  "nbformat": 4,
  "nbformat_minor": 0,
  "metadata": {
    "colab": {
      "name": "18101003.ipynb",
      "provenance": [],
      "authorship_tag": "ABX9TyPDKzAXGEW/4JC26e2clfRP",
      "include_colab_link": true
    },
    "kernelspec": {
      "name": "python3",
      "display_name": "Python 3"
    }
  },
  "cells": [
    {
      "cell_type": "markdown",
      "metadata": {
        "id": "view-in-github",
        "colab_type": "text"
      },
      "source": [
        "<a href=\"https://colab.research.google.com/github/18101003rakin/practice/blob/master/18101003.ipynb\" target=\"_parent\"><img src=\"https://colab.research.google.com/assets/colab-badge.svg\" alt=\"Open In Colab\"/></a>"
      ]
    },
    {
      "cell_type": "markdown",
      "metadata": {
        "id": "0JkZ4795-loY",
        "colab_type": "text"
      },
      "source": [
        "![picture](https://drive.google.com/uc?id=1hWJXu4rfmjhuKmTzwvp6PC3rXo8jWMXp)"
      ]
    },
    {
      "cell_type": "markdown",
      "metadata": {
        "id": "AG4aexHsy5wc",
        "colab_type": "text"
      },
      "source": [
        "**Main parent class**"
      ]
    },
    {
      "cell_type": "code",
      "metadata": {
        "id": "KrhcplfPG0av",
        "colab_type": "code",
        "colab": {}
      },
      "source": [
        "class Engineer:\n",
        "  def __init__(self,name,age):\n",
        "    self.name = name\n",
        "    self.age = age\n",
        "\n",
        "  def show(self):\n",
        "    print(\"Name : \",self.name)\n",
        "    print(\"Age : \",self.age)  "
      ],
      "execution_count": 7,
      "outputs": []
    },
    {
      "cell_type": "markdown",
      "metadata": {
        "id": "5KXsag9Dyezw",
        "colab_type": "text"
      },
      "source": [
        "**Child class of Engineer class**"
      ]
    },
    {
      "cell_type": "code",
      "metadata": {
        "id": "lp_HLOqpHv4b",
        "colab_type": "code",
        "colab": {}
      },
      "source": [
        "class Computer_Science_Engineer(Engineer):\n",
        "  def language(self,language):\n",
        "    print(\"Expert at \"+language+\" language\")\n",
        "\n",
        "  def univarsity(self,univarsity_name):\n",
        "    print(\"Completed Bsc in CSE from \",univarsity_name)  "
      ],
      "execution_count": 54,
      "outputs": []
    },
    {
      "cell_type": "markdown",
      "metadata": {
        "id": "D2YA24pywaiM",
        "colab_type": "text"
      },
      "source": [
        "**Object for Computer_Science_Engineer**"
      ]
    },
    {
      "cell_type": "code",
      "metadata": {
        "id": "-5_45TFbMOJR",
        "colab_type": "code",
        "colab": {}
      },
      "source": [
        "joy = Computer_Science_Engineer(\"Joy Khan\",30)"
      ],
      "execution_count": 55,
      "outputs": []
    },
    {
      "cell_type": "code",
      "metadata": {
        "id": "r878GvUCM_RK",
        "colab_type": "code",
        "colab": {
          "base_uri": "https://localhost:8080/",
          "height": 84
        },
        "outputId": "6a1ce5b1-6ef1-4475-8e4b-46824ca48e16"
      },
      "source": [
        "joy.show()\n",
        "joy.language(\"Python\")\n",
        "joy.univarsity(\"University of Asia Pacific\")"
      ],
      "execution_count": 56,
      "outputs": [
        {
          "output_type": "stream",
          "text": [
            "Name :  Joy Khan\n",
            "Age :  30\n",
            "Expert at Python language\n",
            "Completed Bsc in CSE from  University of Asia Pacific\n"
          ],
          "name": "stdout"
        }
      ]
    },
    {
      "cell_type": "markdown",
      "metadata": {
        "id": "P2lYAJoFwplf",
        "colab_type": "text"
      },
      "source": [
        "**Subclass of Computer_Science_Engineer**"
      ]
    },
    {
      "cell_type": "code",
      "metadata": {
        "id": "iH09cMOHNT56",
        "colab_type": "code",
        "colab": {}
      },
      "source": [
        "class Software_Engineer(Computer_Science_Engineer):\n",
        "    def work_place(self,work_place):\n",
        "      print(\"Works at \",work_place)\n",
        "\n",
        "    def salary(self,salary):\n",
        "      print(\"Monthly salary = \",salary)  "
      ],
      "execution_count": 45,
      "outputs": []
    },
    {
      "cell_type": "markdown",
      "metadata": {
        "id": "QeakuFBzxIxt",
        "colab_type": "text"
      },
      "source": [
        "**Object of subclass Software_Engineer**"
      ]
    },
    {
      "cell_type": "code",
      "metadata": {
        "id": "wFedWLdoOFHy",
        "colab_type": "code",
        "colab": {}
      },
      "source": [
        "nafees = Software_Engineer(\"Nafees Ahmed\",35)"
      ],
      "execution_count": 31,
      "outputs": []
    },
    {
      "cell_type": "code",
      "metadata": {
        "id": "fkdqcjCeOVvz",
        "colab_type": "code",
        "colab": {
          "base_uri": "https://localhost:8080/",
          "height": 118
        },
        "outputId": "39b5c0fd-520d-4c9c-efdf-0359a1401c81"
      },
      "source": [
        "nafees.show()\n",
        "nafees.language(\"C#\")\n",
        "nafees.univarsity(\"BUET\")\n",
        "nafees.work_place(\"Flyte Solutions\")\n",
        "nafees.salary(50000)"
      ],
      "execution_count": 33,
      "outputs": [
        {
          "output_type": "stream",
          "text": [
            "Name :  Nafees Ahmed\n",
            "Age :  35\n",
            "Expert at C# language\n",
            "Completed Bsc in CSE from  BUET\n",
            "Works at  Flyte Solutions\n",
            "Monthly salary =  50000\n"
          ],
          "name": "stdout"
        }
      ]
    },
    {
      "cell_type": "markdown",
      "metadata": {
        "id": "aRGlVIzixTM4",
        "colab_type": "text"
      },
      "source": [
        "**Child class of Engineer class**"
      ]
    },
    {
      "cell_type": "code",
      "metadata": {
        "id": "-jCRud12mqX7",
        "colab_type": "code",
        "colab": {}
      },
      "source": [
        "class Electrical_engineer(Engineer):\n",
        "  \n",
        "  def passing_year(self,passing_year):\n",
        "    print(\"Passing year : \",passing_year)\n",
        "\n",
        "  def univarsity_name(self,univarsity_name):\n",
        "    print(\"Pass from \",univarsity_name)\n",
        "\n",
        "  def focus(self):\n",
        "    print(\"Focus on Electrical devices\")    "
      ],
      "execution_count": 46,
      "outputs": []
    },
    {
      "cell_type": "markdown",
      "metadata": {
        "id": "LDn-voQTzK_t",
        "colab_type": "text"
      },
      "source": [
        "**Object of Electrical_engineer class**"
      ]
    },
    {
      "cell_type": "code",
      "metadata": {
        "id": "J8x0zS1DqNCq",
        "colab_type": "code",
        "colab": {}
      },
      "source": [
        "progga = Electrical_engineer(\"Progga Khan\",36)"
      ],
      "execution_count": 47,
      "outputs": []
    },
    {
      "cell_type": "code",
      "metadata": {
        "id": "ztATTVaXqZuP",
        "colab_type": "code",
        "colab": {
          "base_uri": "https://localhost:8080/",
          "height": 101
        },
        "outputId": "2e7f66dc-3f6c-4713-e772-66289a188239"
      },
      "source": [
        "progga.show()\n",
        "progga.passing_year(2010)\n",
        "progga.univarsity_name(\"RUET\")\n",
        "progga.focus()"
      ],
      "execution_count": 48,
      "outputs": [
        {
          "output_type": "stream",
          "text": [
            "Name :  Progga Khan\n",
            "Age :  36\n",
            "Passing year :  2010\n",
            "Pass from  RUET\n",
            "Focus on Electrical devices\n"
          ],
          "name": "stdout"
        }
      ]
    },
    {
      "cell_type": "markdown",
      "metadata": {
        "id": "04x8WlegxtBz",
        "colab_type": "text"
      },
      "source": [
        "**Child class of Engineer class**"
      ]
    },
    {
      "cell_type": "code",
      "metadata": {
        "id": "5kItWX0pq8aZ",
        "colab_type": "code",
        "colab": {}
      },
      "source": [
        "class Electronic_engineer(Engineer):\n",
        "  \n",
        "  def passing_year(self,passing_year):\n",
        "    print(\"Passing year : \",passing_year)\n",
        "\n",
        "  def univarsity_name(self,univarsity_name):\n",
        "    print(\"Pass from \",univarsity_name)\n",
        "\n",
        "  def focus(self):\n",
        "    print(\"Focus on Electronic devices\") "
      ],
      "execution_count": 49,
      "outputs": []
    },
    {
      "cell_type": "markdown",
      "metadata": {
        "id": "Ov5lBzySzuvW",
        "colab_type": "text"
      },
      "source": [
        "**Object of Electronic_engineer**"
      ]
    },
    {
      "cell_type": "code",
      "metadata": {
        "id": "t09_X6q7rP89",
        "colab_type": "code",
        "colab": {}
      },
      "source": [
        "mredul = Electronic_engineer(\"Mredul Kundu\",50)"
      ],
      "execution_count": 50,
      "outputs": []
    },
    {
      "cell_type": "code",
      "metadata": {
        "id": "EN_XaqAXrZ6k",
        "colab_type": "code",
        "colab": {
          "base_uri": "https://localhost:8080/",
          "height": 101
        },
        "outputId": "e803e025-a89b-4b26-b015-57d2e75aff87"
      },
      "source": [
        "mredul.show()\n",
        "mredul.passing_year(1970)\n",
        "mredul.univarsity_name(\"CUET\")\n",
        "mredul.focus()"
      ],
      "execution_count": 51,
      "outputs": [
        {
          "output_type": "stream",
          "text": [
            "Name :  Mredul Kundu\n",
            "Age :  50\n",
            "Passing year :  1970\n",
            "Pass from  CUET\n",
            "Focus on Electronic devices\n"
          ],
          "name": "stdout"
        }
      ]
    },
    {
      "cell_type": "markdown",
      "metadata": {
        "id": "WPbxHuURx-Mq",
        "colab_type": "text"
      },
      "source": [
        "**Child class of Electrical_engineer and Electronic_engineer**"
      ]
    },
    {
      "cell_type": "code",
      "metadata": {
        "id": "LHN8PvxCsJbu",
        "colab_type": "code",
        "colab": {}
      },
      "source": [
        "class Electrical_and_Electronics_Engineer(Electrical_engineer,Electronic_engineer):\n",
        "        def work_place(self,work_place):\n",
        "          print(\"Works at \",work_place)\n",
        "        def salary(self,salary):\n",
        "          print(\"Monthly salary = \",salary)  "
      ],
      "execution_count": 57,
      "outputs": []
    },
    {
      "cell_type": "markdown",
      "metadata": {
        "id": "xY0oFY-K0Evn",
        "colab_type": "text"
      },
      "source": [
        "**Object of Electrical_engineer**"
      ]
    },
    {
      "cell_type": "code",
      "metadata": {
        "id": "FCNKUU2hs_a-",
        "colab_type": "code",
        "colab": {}
      },
      "source": [
        "jashim = Electrical_and_Electronics_Engineer(\"Kasfia Jashim\",40)"
      ],
      "execution_count": 58,
      "outputs": []
    },
    {
      "cell_type": "code",
      "metadata": {
        "id": "LoCLM2ldtI31",
        "colab_type": "code",
        "colab": {
          "base_uri": "https://localhost:8080/",
          "height": 134
        },
        "outputId": "5295b61e-3698-4e02-e1a1-f99ee330aa75"
      },
      "source": [
        "jashim.show()\n",
        "jashim.passing_year(2010)\n",
        "jashim.univarsity_name(\"RUET\")\n",
        "jashim.focus()\n",
        "jashim.work_place(\"ABC Company\")\n",
        "jashim.salary(40000)"
      ],
      "execution_count": 59,
      "outputs": [
        {
          "output_type": "stream",
          "text": [
            "Name :  Kasfia Jashim\n",
            "Age :  40\n",
            "Passing year :  2010\n",
            "Pass from  RUET\n",
            "Focus on Electrical devices\n",
            "Works at  ABC Company\n",
            "Monthly salary =  40000\n"
          ],
          "name": "stdout"
        }
      ]
    }
  ]
}
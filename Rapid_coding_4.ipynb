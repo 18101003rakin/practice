{
  "nbformat": 4,
  "nbformat_minor": 0,
  "metadata": {
    "colab": {
      "name": "Rapid_coding_4.ipynb",
      "provenance": [],
      "authorship_tag": "ABX9TyP0q9KE2yeL44eZVGrutUqe",
      "include_colab_link": true
    },
    "kernelspec": {
      "name": "python3",
      "display_name": "Python 3"
    }
  },
  "cells": [
    {
      "cell_type": "markdown",
      "metadata": {
        "id": "view-in-github",
        "colab_type": "text"
      },
      "source": [
        "<a href=\"https://colab.research.google.com/github/18101003rakin/practice/blob/master/Rapid_coding_4.ipynb\" target=\"_parent\"><img src=\"https://colab.research.google.com/assets/colab-badge.svg\" alt=\"Open In Colab\"/></a>"
      ]
    },
    {
      "cell_type": "markdown",
      "metadata": {
        "id": "SzGk16ayEXQx",
        "colab_type": "text"
      },
      "source": [
        "**1. Write an Employee class in python to store the following information. Create an object of the class for each employee (row).** "
      ]
    },
    {
      "cell_type": "code",
      "metadata": {
        "id": "Th3M3ejhDn89",
        "colab_type": "code",
        "colab": {}
      },
      "source": [
        "class Employee:\n",
        " def __init__(self,id,name,dept,position,manager,level):\n",
        "    self.id = id\n",
        "    self.name = name\n",
        "    self.dept = dept\n",
        "    self.position = position\n",
        "    self.manager = manager\n",
        "    self.level = level\n",
        "\n",
        "\n",
        " def showinfo(self):\n",
        "      print(\"ID = \",self.id)\n",
        "      print(\"Name = \",self.name)\n",
        "      print(\"Dept = \",self.dept)\n",
        "      print(\"Position = \",self.position)\n",
        "      print(\"Level = \",self.level)\n",
        "\n",
        " \n",
        "      "
      ],
      "execution_count": 7,
      "outputs": []
    },
    {
      "cell_type": "code",
      "metadata": {
        "id": "DDgLjCx_GweH",
        "colab_type": "code",
        "colab": {
          "base_uri": "https://localhost:8080/",
          "height": 101
        },
        "outputId": "8ae808a5-ef48-4a81-ad57-a17f4afd658d"
      },
      "source": [
        "emp1 = Employee(\"1\",\"Devid\",\"Manager\",\"IT\",\"NULL\",\"1\") \n",
        "emp2 = Employee(\"2\",\"Julia\",\"Manager\",\"HR\",\"NULL\",\"1\")\n",
        "emp3 = Employee(\"3\",\"Sophe\",\"Manager\",\"Marketing\",\"NULL\",\"1\")\n",
        "\n",
        "emp1.showinfo()"
      ],
      "execution_count": 11,
      "outputs": [
        {
          "output_type": "stream",
          "text": [
            "ID =  1\n",
            "Name =  Devid\n",
            "Dept =  Manager\n",
            "Position =  IT\n",
            "Level =  1\n"
          ],
          "name": "stdout"
        }
      ]
    },
    {
      "cell_type": "markdown",
      "metadata": {
        "id": "KrJcdis8IfGL",
        "colab_type": "text"
      },
      "source": [
        "**2. Write a python function to calculate the sum of the following series:\t\n",
        "log(1) + log(2) + log(3) + …. + log(n) = ?**\n"
      ]
    },
    {
      "cell_type": "code",
      "metadata": {
        "id": "f7NG_lZQJ2EW",
        "colab_type": "code",
        "colab": {}
      },
      "source": [
        "import math\n",
        "class Log_cal:\n",
        "    def log_sum(self,n):\n",
        "        # Return the sum of all logs for primes smaller than n\n",
        "        log_total = 0\n",
        "        for i in range(1, n+1):\n",
        "            log_total += math.log10(i)\n",
        "        print(log_total)\n",
        "\n",
        "   "
      ],
      "execution_count": 20,
      "outputs": []
    },
    {
      "cell_type": "code",
      "metadata": {
        "id": "S9JRi6ILMEiA",
        "colab_type": "code",
        "colab": {}
      },
      "source": [
        "sum = Log_cal()\n"
      ],
      "execution_count": 21,
      "outputs": []
    },
    {
      "cell_type": "code",
      "metadata": {
        "id": "qr2tR_ITMggI",
        "colab_type": "code",
        "colab": {
          "base_uri": "https://localhost:8080/",
          "height": 34
        },
        "outputId": "05f41071-2a02-42c1-ea1b-fbfa172426e5"
      },
      "source": [
        "sum.log_sum(3)"
      ],
      "execution_count": 22,
      "outputs": [
        {
          "output_type": "stream",
          "text": [
            "0.7781512503836436\n"
          ],
          "name": "stdout"
        }
      ]
    },
    {
      "cell_type": "markdown",
      "metadata": {
        "id": "JPGNQ5kRS3Gh",
        "colab_type": "text"
      },
      "source": [
        "**3. Write a Bank Account class in python to manage the account of the users. A user can deposit and withdraw money from his/her own account based on availability. Moreover, the account stores the following information\t\t\t\t\t\t\n",
        "\tInstance variables:\n",
        "Name of the account\n",
        "Account number\n",
        "Current Balance\n",
        "\tMethods:\n",
        "Deposit\n",
        "Withdraw\n",
        "Show Balance\n",
        "Note:  The above information should be provided at the time of account creation.**\n"
      ]
    },
    {
      "cell_type": "code",
      "metadata": {
        "id": "RRJ3IrxubtEe",
        "colab_type": "code",
        "colab": {}
      },
      "source": [
        "class Bank_Account:\n",
        "  def __init__(self,name,ac_no,cur_bal):\n",
        "    self.name = name\n",
        "    self.ac_no = ac_no\n",
        "    self.cur_bal = cur_bal\n",
        "\n",
        "  def deposit(self,dep_amt):\n",
        "    self.cur_bal+=dep_amt\n",
        "\n",
        "  def withdraw(self,with_amt):\n",
        "    if cur_bal>with_amt:\n",
        "      cur_bal-=with_amt\n",
        "    else:\n",
        "      print(\"Don't have enough balance\")\n",
        "\n",
        "  def show(self):\n",
        "    return self.cur_bal          "
      ],
      "execution_count": 52,
      "outputs": []
    },
    {
      "cell_type": "code",
      "metadata": {
        "id": "eTiFy9sbdoSU",
        "colab_type": "code",
        "colab": {}
      },
      "source": [
        "bal = Bank_Account(\"Rakin\",\"1234\",100000)"
      ],
      "execution_count": 53,
      "outputs": []
    },
    {
      "cell_type": "code",
      "metadata": {
        "id": "RZ-qvaIRd17j",
        "colab_type": "code",
        "colab": {
          "base_uri": "https://localhost:8080/",
          "height": 34
        },
        "outputId": "bffd00df-0633-4d3c-a5a9-b887bece0c75"
      },
      "source": [
        "bal.name\n",
        "bal.cur_bal"
      ],
      "execution_count": 54,
      "outputs": [
        {
          "output_type": "execute_result",
          "data": {
            "text/plain": [
              "100000"
            ]
          },
          "metadata": {
            "tags": []
          },
          "execution_count": 54
        }
      ]
    },
    {
      "cell_type": "code",
      "metadata": {
        "id": "Wu2d_xPEd_0q",
        "colab_type": "code",
        "colab": {}
      },
      "source": [
        "bal.deposit(5000)"
      ],
      "execution_count": 55,
      "outputs": []
    },
    {
      "cell_type": "code",
      "metadata": {
        "id": "E1_108AaeG6j",
        "colab_type": "code",
        "colab": {
          "base_uri": "https://localhost:8080/",
          "height": 34
        },
        "outputId": "a368e224-7ebb-45d8-8cbb-c13964451b6d"
      },
      "source": [
        "bal.show()"
      ],
      "execution_count": 56,
      "outputs": [
        {
          "output_type": "execute_result",
          "data": {
            "text/plain": [
              "105000"
            ]
          },
          "metadata": {
            "tags": []
          },
          "execution_count": 56
        }
      ]
    },
    {
      "cell_type": "markdown",
      "metadata": {
        "id": "Sv6E8fbYhfDj",
        "colab_type": "text"
      },
      "source": [
        "**4. Write a python class for calculating the motion of a moving object by using the following equations**\n"
      ]
    },
    {
      "cell_type": "code",
      "metadata": {
        "id": "mbJIuCwghqUN",
        "colab_type": "code",
        "colab": {}
      },
      "source": [
        "class MotoinCalculation:\n",
        "\n",
        "  def velocity(self, u, a, t):\n",
        "    return u+(a*t)\n",
        "\n",
        "  def distance(self, u, t, a):\n",
        "    s = ((u*t) + (0.5*a*(t**2)))\n",
        "    return s\n",
        "\n",
        "\n",
        "  def distance_with_v(self, u, v, t):\n",
        "    return (0.5*(u+v)*t)\n",
        "  \n",
        "  def velocity_with_s(self, u, a, s):  \n",
        "    return (u**2 + 2*a*s)**0.5"
      ],
      "execution_count": 57,
      "outputs": []
    }
  ]
}
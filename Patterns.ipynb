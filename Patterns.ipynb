{
  "nbformat": 4,
  "nbformat_minor": 0,
  "metadata": {
    "colab": {
      "name": "Patterns.ipynb",
      "provenance": [],
      "authorship_tag": "ABX9TyOas3m2/HRhj7IOexna5jsl",
      "include_colab_link": true
    },
    "kernelspec": {
      "name": "python3",
      "display_name": "Python 3"
    },
    "language_info": {
      "name": "python"
    }
  },
  "cells": [
    {
      "cell_type": "markdown",
      "metadata": {
        "id": "view-in-github",
        "colab_type": "text"
      },
      "source": [
        "<a href=\"https://colab.research.google.com/github/18101003rakin/practice/blob/master/Patterns.ipynb\" target=\"_parent\"><img src=\"https://colab.research.google.com/assets/colab-badge.svg\" alt=\"Open In Colab\"/></a>"
      ]
    },
    {
      "cell_type": "markdown",
      "metadata": {
        "id": "RpPBnUp4C4W9"
      },
      "source": [
        "Pattern - 01"
      ]
    },
    {
      "cell_type": "code",
      "metadata": {
        "colab": {
          "base_uri": "https://localhost:8080/"
        },
        "id": "7-kkUfCI9Xn8",
        "outputId": "5000a944-7660-4fed-e23c-b2607f6706f4"
      },
      "source": [
        "def pypart(n):\n",
        "\tfor i in range(0, n):\n",
        "\t\tfor j in range(0, i+1):\n",
        "\t\t\tprint(\"* \",end=\"\")\n",
        "\t\tprint(\"\\r\")\n",
        "n = 5\n",
        "pypart(n)\n"
      ],
      "execution_count": 8,
      "outputs": [
        {
          "output_type": "stream",
          "text": [
            "* \r\n",
            "* * \r\n",
            "* * * \r\n",
            "* * * * \r\n",
            "* * * * * \r\n"
          ],
          "name": "stdout"
        }
      ]
    },
    {
      "cell_type": "markdown",
      "metadata": {
        "id": "Fq9DwkOeC1yE"
      },
      "source": [
        "Pattern - 2"
      ]
    },
    {
      "cell_type": "code",
      "metadata": {
        "colab": {
          "base_uri": "https://localhost:8080/"
        },
        "id": "rXEJ1JbbC-wx",
        "outputId": "356899a3-d76c-4061-bc19-40934135416a"
      },
      "source": [
        "def pypart2(n):\n",
        "\tk = 2*n - 2\n",
        "\tfor i in range(0, n):\n",
        "\t\tfor j in range(0, k):\n",
        "\t\t\tprint(end=\" \")\n",
        "\t\tk = k - 2\n",
        "\t\tfor j in range(0, i+1):\n",
        "\t\t\tprint(\"* \", end=\"\")\n",
        "\t\tprint(\"\\r\")\n",
        "n = 5\n",
        "pypart2(n)\n"
      ],
      "execution_count": 9,
      "outputs": [
        {
          "output_type": "stream",
          "text": [
            "        * \r\n",
            "      * * \r\n",
            "    * * * \r\n",
            "  * * * * \r\n",
            "* * * * * \r\n"
          ],
          "name": "stdout"
        }
      ]
    },
    {
      "cell_type": "markdown",
      "metadata": {
        "id": "owW8OjpjFq-4"
      },
      "source": [
        "Pattern - 3"
      ]
    },
    {
      "cell_type": "code",
      "metadata": {
        "colab": {
          "base_uri": "https://localhost:8080/"
        },
        "id": "gZ4eQF2VF01Z",
        "outputId": "9da84a8e-8317-4a57-ce40-e61f22d0778b"
      },
      "source": [
        "def triangle(n):\n",
        "\tk = n - 1\n",
        "\tfor i in range(0, n):\n",
        "\t\tfor j in range(0, k):\n",
        "\t\t\tprint(end=\" \")\n",
        "\t\tk = k - 1\n",
        "\t\tfor j in range(0, i+1):\n",
        "\t\t\tprint(\"* \", end=\"\")\n",
        "\t\tprint(\"\\r\")\n",
        "n = 5\n",
        "triangle(n)\n"
      ],
      "execution_count": 10,
      "outputs": [
        {
          "output_type": "stream",
          "text": [
            "    * \r\n",
            "   * * \r\n",
            "  * * * \r\n",
            " * * * * \r\n",
            "* * * * * \r\n"
          ],
          "name": "stdout"
        }
      ]
    },
    {
      "cell_type": "markdown",
      "metadata": {
        "id": "TZ8XsSw-GARl"
      },
      "source": [
        "Pattern - 4"
      ]
    },
    {
      "cell_type": "code",
      "metadata": {
        "colab": {
          "base_uri": "https://localhost:8080/"
        },
        "id": "KiPiu5tLGINF",
        "outputId": "aaafe4a9-185b-487b-9e80-aad96ad06720"
      },
      "source": [
        "def numpat(n):\n",
        "\tnum = 1\n",
        "\tfor i in range(0, n):\n",
        "\t\tnum = 1\n",
        "\t\tfor j in range(0, i+1):\n",
        "\t\t\tprint(num, end=\" \")\n",
        "\t\t\tnum = num + 1\n",
        "\t\tprint(\"\\r\")\n",
        "n = 5\n",
        "numpat(n)\n"
      ],
      "execution_count": 11,
      "outputs": [
        {
          "output_type": "stream",
          "text": [
            "1 \r\n",
            "1 2 \r\n",
            "1 2 3 \r\n",
            "1 2 3 4 \r\n",
            "1 2 3 4 5 \r\n"
          ],
          "name": "stdout"
        }
      ]
    },
    {
      "cell_type": "markdown",
      "metadata": {
        "id": "cHteT9moGRq6"
      },
      "source": [
        "Pattern - 5\n"
      ]
    },
    {
      "cell_type": "code",
      "metadata": {
        "colab": {
          "base_uri": "https://localhost:8080/"
        },
        "id": "wOP6nF4lGUvt",
        "outputId": "af332b0a-6b83-49c7-8e9d-b92ed566134e"
      },
      "source": [
        "def alphapat(n):\n",
        "\tnum = 65\n",
        "\tfor i in range(0, n):\n",
        "\t\tfor j in range(0, i+1):\n",
        "\t\t\tch = chr(num)\n",
        "\t\t\tprint(ch, end=\" \")\n",
        "\t\tnum = num + 1\n",
        "\t\tprint(\"\\r\")\n",
        "n = 5\n",
        "alphapat(n)\n"
      ],
      "execution_count": 12,
      "outputs": [
        {
          "output_type": "stream",
          "text": [
            "A \r\n",
            "B B \r\n",
            "C C C \r\n",
            "D D D D \r\n",
            "E E E E E \r\n"
          ],
          "name": "stdout"
        }
      ]
    },
    {
      "cell_type": "markdown",
      "metadata": {
        "id": "VpP1Ub9wLAsb"
      },
      "source": [
        "Pattern - 6"
      ]
    },
    {
      "cell_type": "code",
      "metadata": {
        "colab": {
          "base_uri": "https://localhost:8080/"
        },
        "id": "rshBZe_-LGIc",
        "outputId": "8af6a3bf-9780-44d4-8f6b-e0c8c2766353"
      },
      "source": [
        "def pattern(n):\n",
        "  k = 2*n-2\n",
        "  for i in range(0,n-1):\n",
        "    for j in range(0,k):\n",
        "      print(end=\"\")\n",
        "    k=k-2\n",
        "    for j in range(0, i+1):\n",
        "      print(\"*\", end=\"\")\n",
        "    print(\"\\r\")\n",
        "  k = -1\n",
        "  for i in range(n-1,-1,-1):\n",
        "    for j in range(k,-1,-1):\n",
        "      print(end=\"\")\n",
        "    k=k+2\n",
        "    for j in range(0, i+1):\n",
        "      print(\"*\", end=\"\")\n",
        "    print(\"\\r\")\n",
        "pattern(5)\n"
      ],
      "execution_count": 17,
      "outputs": [
        {
          "output_type": "stream",
          "text": [
            "*\r\n",
            "**\r\n",
            "***\r\n",
            "****\r\n",
            "*****\r\n",
            "****\r\n",
            "***\r\n",
            "**\r\n",
            "*\r\n"
          ],
          "name": "stdout"
        }
      ]
    },
    {
      "cell_type": "markdown",
      "metadata": {
        "id": "wYRlU8DkOSNn"
      },
      "source": [
        "pattern - 7"
      ]
    },
    {
      "cell_type": "code",
      "metadata": {
        "colab": {
          "base_uri": "https://localhost:8080/"
        },
        "id": "mA5OSfjROQqy",
        "outputId": "cc97a9ae-c970-4ed3-9f32-09d778447249"
      },
      "source": [
        "def pattern(n):\n",
        "  k = 2*n-2\n",
        "  for i in range(0,n):\n",
        "    for j in range(0,k):\n",
        "      print(end=\" \")\n",
        "    k=k-1\n",
        "    for j in range(0, i+1):\n",
        "      print(\"*\", end=\"\")\n",
        "    print(\"\\r\")\n",
        "  k = n-2\n",
        "  for i in range(n,-1,-1):\n",
        "    for j in range(k,0,-1):\n",
        "      print(end=\"\")\n",
        "    k=k+1\n",
        "    for j in range(0, i+1):\n",
        "      print(\"*\", end=\"\")\n",
        "    print(\"\\r\")\n",
        "pattern(5)"
      ],
      "execution_count": 18,
      "outputs": [
        {
          "output_type": "stream",
          "text": [
            "        *\r\n",
            "       **\r\n",
            "      ***\r\n",
            "     ****\r\n",
            "    *****\r\n",
            "******\r\n",
            "*****\r\n",
            "****\r\n",
            "***\r\n",
            "**\r\n",
            "*\r\n"
          ],
          "name": "stdout"
        }
      ]
    }
  ]
}
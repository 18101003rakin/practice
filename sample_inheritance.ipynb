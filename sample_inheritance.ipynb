{
  "nbformat": 4,
  "nbformat_minor": 0,
  "metadata": {
    "colab": {
      "name": "sample_inheritance.ipynb",
      "provenance": [],
      "authorship_tag": "ABX9TyN63Et0VWHCx1ZokwYoFrVX",
      "include_colab_link": true
    },
    "kernelspec": {
      "name": "python3",
      "display_name": "Python 3"
    }
  },
  "cells": [
    {
      "cell_type": "markdown",
      "metadata": {
        "id": "view-in-github",
        "colab_type": "text"
      },
      "source": [
        "<a href=\"https://colab.research.google.com/github/18101003rakin/practice/blob/master/sample_inheritance.ipynb\" target=\"_parent\"><img src=\"https://colab.research.google.com/assets/colab-badge.svg\" alt=\"Open In Colab\"/></a>"
      ]
    },
    {
      "cell_type": "code",
      "metadata": {
        "id": "dbVx-UOm8BHT",
        "colab_type": "code",
        "colab": {}
      },
      "source": [
        "class Animal:\n",
        "  def __init__(self,legs,food_habit):\n",
        "    self.legs = legs\n",
        "    self.food_habit = food_habit"
      ],
      "execution_count": 4,
      "outputs": []
    },
    {
      "cell_type": "code",
      "metadata": {
        "id": "YAGR9ZOI8q5w",
        "colab_type": "code",
        "colab": {}
      },
      "source": [
        "class Rabit(Animal):\n",
        "  def eat(self,name):\n",
        "    print(\"something\")"
      ],
      "execution_count": 5,
      "outputs": []
    },
    {
      "cell_type": "code",
      "metadata": {
        "id": "QqMdnumn86yh",
        "colab_type": "code",
        "colab": {}
      },
      "source": [
        "moose = Rabit(4,\"herbivores\")"
      ],
      "execution_count": 6,
      "outputs": []
    }
  ]
}
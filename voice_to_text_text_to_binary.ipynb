{
  "nbformat": 4,
  "nbformat_minor": 0,
  "metadata": {
    "colab": {
      "name": "voice_to_text_text_to_binary.ipynb",
      "provenance": [],
      "authorship_tag": "ABX9TyMO4W5Z9RIrgTJNPHIeIKLf",
      "include_colab_link": true
    },
    "kernelspec": {
      "name": "python3",
      "display_name": "Python 3"
    }
  },
  "cells": [
    {
      "cell_type": "markdown",
      "metadata": {
        "id": "view-in-github",
        "colab_type": "text"
      },
      "source": [
        "<a href=\"https://colab.research.google.com/github/18101003rakin/practice/blob/master/voice_to_text_text_to_binary.ipynb\" target=\"_parent\"><img src=\"https://colab.research.google.com/assets/colab-badge.svg\" alt=\"Open In Colab\"/></a>"
      ]
    },
    {
      "cell_type": "code",
      "metadata": {
        "id": "y_gmUNv39IIY",
        "colab_type": "code",
        "colab": {}
      },
      "source": [
        "#install :  pip3 install SpeechRecognition pydub\n",
        "#install :  pip3 install playsound\n",
        "#voice file must have .wav extention and in same file where code belongs\n",
        "\n",
        "\n",
        "\n",
        "import speech_recognition as sr \n",
        "import binascii\n",
        "from playsound import playsound\n",
        "\n",
        "filename = \"here-i-come.wav\"\n",
        "playsound(filename)\n",
        "\n",
        "r = sr.Recognizer()\n",
        "\n",
        "with sr.AudioFile(filename) as source:\n",
        "    audio_data = r.record(source)\n",
        "    text = r.recognize_google(audio_data)\n",
        "    print(text)\n",
        "\n",
        "    if __name__ == \"__main__\":\n",
        "        text_to_convert = text\n",
        "        print(str(text_to_convert))\n",
        "        text_in_bin = ''.join(format(ord(i), 'b') for i in text)\n",
        "        print(str(text_in_bin))\n"
      ],
      "execution_count": null,
      "outputs": []
    }
  ]
}